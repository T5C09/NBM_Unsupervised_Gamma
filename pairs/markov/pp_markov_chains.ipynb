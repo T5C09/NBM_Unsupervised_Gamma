{
 "cells": [
  {
   "cell_type": "markdown",
   "metadata": {},
   "source": [
    "# Markov Chains and Text Generation"
   ]
  },
  {
   "cell_type": "markdown",
   "metadata": {},
   "source": [
    "## Markov Chain Simple Example"
   ]
  },
  {
   "cell_type": "markdown",
   "metadata": {},
   "source": [
    "Markov chains are a way of representing how systems change over time. The main concept behind Markov chains are that they are memoryless, meaning that the next state of a process only depends on the previous state."
   ]
  },
  {
   "cell_type": "markdown",
   "metadata": {},
   "source": [
    "<img src=\"markov_chain_wiki.png\" alt=\"Drawing\" align=\"left\" style=\"width: 350px;\"/>"
   ]
  },
  {
   "cell_type": "markdown",
   "metadata": {},
   "source": [
    "The way to read the Markov chain above from [Wikipedia](https://commons.wikimedia.org/w/index.php?curid=25300524) is:\n",
    "* If I am currently in the sunny state, there is a 10% chance I will go to the rainy state and a 90% chance I will remain in the sunny state\n",
    "* If I am currently in the rainy state, there is an 50% chance I will go to the sunny state and a 50% chance I will remain in the rainy state"
   ]
  },
  {
   "cell_type": "markdown",
   "metadata": {},
   "source": [
    "### Markov Chains as Transition Matrices"
   ]
  },
  {
   "cell_type": "markdown",
   "metadata": {},
   "source": [
    "This is what our **transition matrix** will look like for the Markov chain diagram above. Take a minute to interpret the rows and columns of this matrix."
   ]
  },
  {
   "cell_type": "code",
   "execution_count": 1,
   "metadata": {},
   "outputs": [
    {
     "data": {
      "text/plain": [
       "array([[0.9, 0.1],\n",
       "       [0.5, 0.5]])"
      ]
     },
     "execution_count": 1,
     "metadata": {},
     "output_type": "execute_result"
    }
   ],
   "source": [
    "import numpy as np\n",
    "\n",
    "P = np.asarray([.9, .1, .5, .5]).reshape(2,2)\n",
    "P"
   ]
  },
  {
   "cell_type": "markdown",
   "metadata": {},
   "source": [
    "### Predict Tomorrow's Weather"
   ]
  },
  {
   "cell_type": "markdown",
   "metadata": {},
   "source": [
    "Let's say it's sunny today, we can represent that as:\n",
    "\n",
    "`today = [1, 0]`\n",
    "\n",
    "**Predict tomorrow's weather using what you know about today and the transition matrix.**"
   ]
  },
  {
   "cell_type": "code",
   "execution_count": null,
   "metadata": {
    "collapsed": true
   },
   "outputs": [],
   "source": [
    "# Input code here"
   ]
  },
  {
   "cell_type": "markdown",
   "metadata": {},
   "source": [
    "**Predict the day after tomorrow's weather.**"
   ]
  },
  {
   "cell_type": "code",
   "execution_count": null,
   "metadata": {
    "collapsed": true
   },
   "outputs": [],
   "source": [
    "# Input code here"
   ]
  },
  {
   "cell_type": "markdown",
   "metadata": {},
   "source": [
    "**What is the steady state of the weather? Or in other words, what is the probability that it will be sunny, out of all days?** (Hint: Remember Monte Carlo simulations?)"
   ]
  },
  {
   "cell_type": "code",
   "execution_count": null,
   "metadata": {
    "collapsed": true
   },
   "outputs": [],
   "source": [
    "# Input code here"
   ]
  },
  {
   "cell_type": "markdown",
   "metadata": {},
   "source": [
    "## Markov Chains for Text Generation"
   ]
  },
  {
   "cell_type": "markdown",
   "metadata": {},
   "source": [
    "Markov chains can also be used for very basic text generation. Think about every word in a corpus as a state. We can make a simple assumption that the next word is only dependent on the previous word - which is the basic assumption of a Markov chain.\n",
    "\n",
    "Markov chains don't generate text as well as deep learning, but it's a good (and fun!) start."
   ]
  },
  {
   "cell_type": "markdown",
   "metadata": {},
   "source": [
    "### Read in some text to imitate"
   ]
  },
  {
   "cell_type": "markdown",
   "metadata": {},
   "source": [
    "We are going to generate some text in the style of inspirational quotes, so let's first read in the data."
   ]
  },
  {
   "cell_type": "code",
   "execution_count": 6,
   "metadata": {},
   "outputs": [
    {
     "data": {
      "text/plain": [
       "'“Healing comes from taking responsibility: to realize that it is you - and no one else - that creates your thoughts, your feelings, and your actions.” —Peter Shepherd\\n\\n“Life is a journey and if you fall in love with the journey you will be in love forever.” —Peter Hagerty\\n\\n“When you return to your old hometown, you find it wasn’t the town you missed, but your childhood.” —Earl Wilson\\n\\n“As we grow old, the beauty steals inward.” —Ralph Waldo Emerson\\n\\n“Life begins as a quest of the child for the man, and ends as a journey by the man to rediscover the child.” —Sam Ewing\\n\\nHappiness\\n“Ultimately your greatest teacher is to live with an open heart.” —Emmanuel (Pat Rodegast)\\n\\n“Doing what you like is freedom. Liking what you do is happiness.” —Frank Tyger\\n\\n“We forge the chains we wear in life.” —Charles Dickens\\n\\nhappiness quote\\n“If you look to others for fulfillment, you will never be fulfilled. If your happiness depends on money, you will never be happy with yourself. Be content with what you have; rejoice in the way things are. When you realize there is nothing lacking, the world belongs to you.” —Lao Tzu\\n\\n“Everything is a gift of the universe —even joy, anger, jealously, frustration, or separateness. Everything is perfect either for our growth or our enjoyment.” —Ken Keyes Jr.\\n\\n“There is no such thing as a problem without a gift for you in its hands. You seek problems because you need their gifts.” —Richard Bach\\n\\n“If you want to be happy, set a goal that commands your thoughts, liberates your energy, and inspires your hopes.” —Andrew Carnegie\\n\\nhappiness quote\\n“Tension is who you think you should be, relaxation is who you are.” —Ancient Chinese Proverb\\n\\n“I believe the recipe for happiness to be just enough money to pay the monthly bills you acquire, a little surplus to give you confidence, a little too much work each day, enthusiasm for your work, a substantial share of good health, a couple of real friends and a wife and children to share life’s beauty with you.” —J. Kenfield Morley\\n\\n“For me it is sufficient to have a corner by my hearth, a book and a friend, and a nap undisturbed by creditors or grief.” —Fernandez de Andrada\\n\\n“You cannot judge what should bring others joy, and others cannot judge what should bring you joy.” —Alan Cohen\\n\\nhappiness quote\\n“The art of living lies less in eliminating our troubles than growing with them.” —Bernard M. Baruch\\n\\n“Be happy with what you have. Be excited about what you want.” —Alan Cohen\\n\\n“Our capacity to draw happiness from aesthetic objects or material goods in fact seems critically dependent on our first satisfying a more important range of emotional or psychological needs, among them the need for understanding, for love, expression and respect.” —Alain De Botton\\n\\n\\n“If you start to think the problem is ‘out there,’ stop yourself. That thought is the problem.” —Stephen Covey\\n\\n“Happiness cannot be traveled to, owned, earned, worn or consumed. Happiness is the spiritual experience of living every minute with love, grace, and gratitude.” —Denis Waitley\\n\\n“Happiness is not a station you arrive at, but a manner of traveling.” —Margaret Lee Runbeck\\n\\n“Happiness is the meaning and the purpose of life, the whole aim and end of human existence.” —Aristotle\\n\\nHappiness and Wellbeing quote\\nClick for articles by Wallace Huey at INSIDE-OUT\\n“Security is when everything is settled, when nothing can happen to you; security is the denial of life.” —Germaine Greer\\n\\n“Focus on the journey, not the destination. Joy is found not in finishing an activity but in doing it.” —Greg Anderson\\n\\n“Thousands of candles can be lit from a single candle, and the life of the candle will not be shortened. Happiness never decreases by being shared.” —Buddha\\n\\nhappiness quote\\n“The best remedy for those who are afraid, lonely or unhappy is to go outside, somewhere where they can be quiet, alone with the heavens, nature and God. As long as this exists, and it certainly always will, then there will be comfort for every sorrow, whatever the circumstances may be.” —Anne Frank\\n\\n“In our lives, change is unavoidable, loss is unavoidable. In the adaptability and ease with which we experience change, lies our happiness and freedom.” —Buddha\\n\\n“Live with intention. Walk to the edge. Listen hard. Practice wellness. Play with abandon. Laugh. Choose with no regret. Do what you love. Live as if this is all there is.” —Mary Anne Roadacher-Hershey\\n\\n“You never regret being kind.” —Nicole Shepherd\\n\\n“They who can give up essential liberty to obtain a little temporary safety, deserve neither liberty nor safety.” —Ben Franklin\\n\\nhappiness quote\\n“Forgiveness does not change the past, but it does enlarge the future.” —Paul Boese\\n\\n“The secret of health for both mind and body is not to mourn for the past, worry about the future, or anticipate troubles, but to live in the present moment wisely and earnestly.” —Buddha\\n\\n“True happiness is not attained through self-gratification, but through fidelity to a worthy purpose.” —Helen Keller\\n\\n“Most of us miss out on life’s big prizes. The Pulitzer. The Nobel. Oscars. The World Cup. But we’re all eligible for life’s smaller prizes... A pat on the back. A kiss behind the ear. A four-pound bass. A full moon. An empty parking space. A crackling fire. A great meal. A glorious sunset. Hot soup. Cold beer.” —Unknown\\n\\n“Money is neither my god nor my devil. It is a form of energy that tends to make us more of who we already are, whether it’s greedy or loving.” —Dan Millman\\n\\n“The need for forgiveness is an illusion. There is nothing to forgive.” —Rachel England\\n\\n16 ways to be happy\\n“Blessed are those who can give without remembering and take without forgetting.” —Bernard Meltzer\\n\\n“Reflect upon you present blessings, of which every man has many - not on your past misfortunes, of which all men have some.” —Charles Dickens\\n\\n“Even a happy life cannot be without a measure of darkness, and the word happy would lose its meaning if it were not balanced by sadness. It is far better to take things as they come along with patience and equanimity.” —Carl Jung\\n\\n“Much of the stress that people feel doesn’t come from having too much to do. It comes from not finishing what they’ve started.” —David Allen\\n\\n“He who lives in harmony with himself lives in harmony with the universe.” —Marcus Aurelius\\n\\nhappiness quote\\n“If you want others to be happy, practice compassion. If you want to be happy, practice compassion.” —Dalai Lama\\n\\n“All the world’s a stage, and the men and women merely players. They have their exits and their entrances; and one man in his time plays many parts.” —William Shakespeare\\n\\n“Dream as if you’ll live forever, live as if you’ll die today.” —James Dean\\n\\n“When one door of happiness closes, another opens, but often we look so long at the closed door that we do not see the one that has been opened for us.” —Helen Keller\\n\\n“Happiness is not having what you want. It is appreciating what you have.” —Unknown\\n\\n“True happiness... arises, in the first place, from the enjoyment of one’s self.” —Joseph Addison\\n\\n“Happiness is that state of consciousness which proceeds from the achievement of one’s values.” —Ayn Rand\\n\\nhappiness quote\\n“All this world is but a play... be thou the joyful player.” —Robin Williamson\\n\\n“Life is an opportunity, benefit from it.\\nLife is beauty, admire it.\\nLife is bliss, taste it.\\nLife is a dream, realize it.\\nLife is a challenge, meet it.\\nLife is a duty, complete it.\\nLife is a game, play it.\\nLife is a promise, fulfill it.\\nLife is sorrow, overcome it.\\nLife is a song, sing it.\\nLife is a struggle, accept it. Life is a tragedy, confront it.\\nLife is an adventure, dare it.\\nLife is luck, make it.\\nLife is too precious, do not destroy it.\\nLife is life, fight for it.”\\n—Mother Teresa\\n\\nMost of us are just about as happy as we make up our minds to be. –William Adams\\n\\n“Success is getting what you want. Happiness is wanting what you get.” —Dale Carnegie\\n\\n“We can have peace if we let go of wanting to change the past and wanting to control the future.” —Lester Levinson\\n\\n“We make a living by what we get, we make a life by what we give.” —Winston Churchill\\n\\n“Money doesn’t bring happiness and creativity. Your creativity and happiness brings money.” —Sam Rosen\\n\\nhappiness quote\\n“Happiness is the experience of loving life. Being happy is being in love with that momentary experience. And love is looking at someone or even something and seeing the absolute best in him/her or it. Love is happiness with what you see. So love and happiness really are the same thing... just expressed differently.” —Robert McPhillips\\n\\n“Everything that irritates us about others can lead us to an understanding of ourselves.” —Carl Jung\\n\\n“God comforts the disturbed and disturbs the comfortable.”\\n\\n“Carefully watch your THOUGHTS, for they become your WORDS. Manage and watch your WORDS, for they will become your ACTIONS. Consider and judge your ACTIONS, for they have become your HABITS. Acknowledge and watch your HABITS, for they shall become your VALUES. Understand and embrace your VALUES, for they become YOUR DESTINY.” —Mahatma Gandhi\\n\\n“Wisdom is knowing what path to take next... Integrity is taking it.”\\n\\n“God, grant me the serenity to accept the things I cannot change, the courage to change the things I can, and the wisdom to know the difference.” —Reinhold Niebuhr\\n\\nhappiness quote\\n“I am not bound to win, I am bound to be true. I am not bound to succeed, but I am bound to live up to the light I have.” —Abraham Lincoln\\n\\n“Gratitude unlocks the fullness of life. It turns what we have into enough, and more. It turns denial into acceptance, chaos to order, confusion to clarity. It can turn a meal into a feast, a house into a home, a stranger into a friend. Gratitude makes sense of our past, brings peace for today, and creates a vision for tomorrow.” —Melody Beattie\\n\\n“We all get report cards in many different ways, but the real excitement of what you’re doing is in the doing of it. It’s not what you’re gonna get in the end - it’s not the final curtain - it’s really in the doing it, and loving what you’re doing.” —Ralph Lauren\\n\\n“Happiness in life is not measured by the things we achieve, the places we go, or the route that we take to get there. Happiness in life is measured by the people that we share all of our experiences with.” —Chris Needham\\n\\nhappiness quote\\n“There is no stress in the world, only people thinking stressful thoughts and then acting on them.” —Dr. Wayne Dyer\\n\\n“In the midst of movement and chaos, keep stillness inside of you.” —Deepak Chopra\\n\\n“Everything is a gift of the universe - even joy, anger, jealously, frustration, or separateness. Everything is perfect either for our growth or our enjoyment.” —Ken Keyes Jr.\\n\\n“We fear that we are inadequate, but our deepest fear is that we are powerful beyond measure.\\nIt is our light, not our darkness, that most frightens us.\\nWe ask ourselves: “Who am I to be brilliant, gorgeous, talented, fabulous?”\\nActually, who are you not to be these things?\\nYou are a child of God.\\nYour playing small doesn’t serve the world.\\nThere is nothing enlightening about shrinking so that other people around you won’t feel insecure.\\nWe are all meant to shine as children do.\\nWe are born to manifest the glory of God that is within us.\\nIt is not just in some of us; it is in everyone.\\nAnd as we let our light shine, we unconsciously give other people permission to do the same.\\nAs we are liberated from our own fear, our presence automatically releases others.”\\n—Marriane Williamson, from ‘A Return to Love’.\\n\\n“A smile is a curve that sets everything straight.” —Phyllis Diller\\n\\nhappiness quote\\n“There is only one thing more painful than learning from experience and that is not learning from experience.” —Archibald McLeish\\n\\n“Once you do something you love, you never have to work again.” —Willie Hill\\n\\n“Take time to work - it is the price of success\\nTake time to think - it is the source of power\\nTake time to play - it is the secret of perpetual youth\\nTake time to read - it is the fountain of wisdom\\nTake time to be friendly - it is the road to happiness\\nTake time to love and be loved - it is the nourishment of the soul\\nTake time to share - it is too short a life to be selfish\\nTake time to laugh - it is the music of the heart\\nTake time to dream - it is hitching your wagon to a star.”\\n—anonymous\\n\\n“Anything in life that we don’t accept will simply make trouble for us until we make peace with it.” —Shakti Gawain\\n\\nhappiness quote\\n“The right way is not always the popular and easy way. Standing for right when it is unpopular is a true test of moral character.” —Margaret Chase Smith\\n\\n“Persons of high self-esteem are not driven to make themselves superior to others; they do not seek to prove their value by measuring themselves against a comparative standard. Their joy is being who they are, not in being better than someone else.” —Nathaniel Branden\\n\\n“Anxiety is the dizziness of freedom.” —Soren Kierkegaard\\n\\n“Do what you have always done and you’ll get what you have always got.” —Sue Knight\\n\\n“The happiness of life is made up of the little charities of a kiss or smile, a kind look, a heartfelt compliment.” —Samuel Taylor Coleridge\\n\\n“We avoid the things that we’re afraid of because we think there will be dire consequences if we confront them. But the truly dire consequences in our lives come from avoiding things that we need to learn about or discover.” —Shakti Gawain (The Path of Transformation)\\n\\n“If we become uncomfortable in any given moment, we can look at a flower, a pebble in the street or the tire on our car and be grateful. We can gaze at a person in the distance or at a cloud in the sky and be appreciative. We can smile at a stranger, hug someone we know or tidy a disorganized shelf and be thankful for the opportunity. If we choose gratitude, we will be happy!” —Barry Neil Kaufman\\n\\n“Life isn’t measured by the breaths you take, but by the moments that take your breath away.”\\n\\n“Think of what you have rather than of what you lack. Of the things you have, select the best and then reflect how eagerly you would have sought them if you did not have them.” —Marcus Aurelius\\n\\nhappiness quote\\n“Happiness is where we find it, but very rarely where we seek it.” —J. Petit Senn\\n\\n“To be content means that you realize you contain what you seek.” —Alan Cohen\\n\\n“Today is the tomorrow you worried about yesterday. Was it worth it?”\\n\\n“The mind is its own place, and in itself can make a heaven of hell, a hell of heaven.” —John Milton\\n\\n“Both abundance and lack exist simultaneously in our lives, as parallel realities. It is always our conscious choice which secret garden we will tend...when we choose not to focus on what is missing from our lives but are grateful for the abundance that’s present—love, health, family, friends, work, the joys of nature and personal pursuits that bring us pleasure—the wasteland of illusion falls away and we experience Heaven on earth.” —Sarah Ban Breathnach\\n\\n“The moment one gives close attention to anything, even a blade of grass, it becomes a mysterious, awesome, indescribably magnificent world in itself.” —Henry Miller\\n\\n“God, grant me serenity to accept the things I cannot change, courage to change the things I can, and wisdom to know the difference.” —Reinhold Niebuhr\\n\\n“That which does not kill you makes you stronger.” —Neitzsche\\n\\n“Boredom is the feeling that everything is a waste of time; serenity, that nothing is.” —Thomas Szasz\\n\\n“In our daily lives, we must see that it is not happiness that makes us grateful, but the gratefulness that makes us happy.” —Albert Clarke\\n\\n“A man who does simply what is required of him will never know peace; for that, he must do all that he can.”\\n\\n“Look at everything as though you were seeing it either for the first or last time. Then your time on earth will be filled with glory.” —Betty Smith\\n\\n“You are responsible for your life. You can’t keep blaming somebody else for your dysfunction. Life is really about moving on.” —Oprah Winfrey\\n\\nhappiness quote\\nFour Lessons on Life:\\n1. Never take down a fence until you know why it was put up.\\n2. If you get too far ahead of the army, your soldiers may mistake you for the enemy.\\n3. Don’t complain about the bottom rungs of the ladder; they helped to get you higher.\\n4. If you want to enjoy the rainbow, be prepared to endure the storm. —Warren Wiersbe (On Being a Servant of God)\\n\\n“Expecting life to treat you well because you are a good person is like expecting an angry bull not to charge because you are a vegetarian.” —Shari R. Barr\\n\\n“View life as a series of movie frames, the ending and meaning may not be apparent until the very end of the movie, and yet, each of the hundreds of individual frames has meaning within the context of the whole movie.\\n  “View your life from your funeral, looking back at your life experiences, what have you accomplished? what would you have wanted to accomplish but didn’t? what were the happy moments? what were the sad? what would you do again, and what you wouldn’t?” —Victor Frankl\\n\\nhappiness quote\\n“You are up and you are happy.\\nYou are down and you are sad.\\nAll ups and downs help you to find a balance in your being.\\nThis is what life is all about.\\nOnce balanced, no more ups and downs, \\nbut bliss and joy and silence and gratitude.” —Tishan\\n\\n“Yesterday is the past. Tomorrow is the future. Today is a gift and that’s why we call it the present.”\\n\\n“He who dares nothing need hope for nothing.”\\n\\n“Far better is it to dare mighty things, to win glorious triumphs - even though checkered by failure - than to rank with those poor spirits who neither enjoy much nor suffer much, because they live in a gray twilight that knows not victory nor defeat.” —Theodore Roosevelt\\n\\n“A coward gets scared and quits. A hero gets scared, but still goes on.”'"
      ]
     },
     "execution_count": 6,
     "metadata": {},
     "output_type": "execute_result"
    }
   ],
   "source": [
    "filename = 'inspiration_quotes.txt'\n",
    "with open(filename, \"r\") as file:\n",
    "    quotes = file.read()\n",
    "quotes"
   ]
  },
  {
   "cell_type": "markdown",
   "metadata": {},
   "source": [
    "### Clean up the text data"
   ]
  },
  {
   "cell_type": "markdown",
   "metadata": {},
   "source": [
    "1. Remove all line breaks (```\\n```)\n",
    "1. Only keep text within quotes (`“”`). The output of this step should look like this:\n",
    "\n",
    "```'Healing comes from taking responsibility: to realize that it is you - and no one else - that creates your thoughts, your feelings, and your actions. Life is a journey and if you fall in love with the journey you will be in love forever. When you return to your old hometown, you find it wasn’t the town you missed, but your childhood.\n",
    "...```"
   ]
  },
  {
   "cell_type": "code",
   "execution_count": null,
   "metadata": {
    "collapsed": true
   },
   "outputs": [],
   "source": [
    "# 1. Remove all line breaks"
   ]
  },
  {
   "cell_type": "code",
   "execution_count": null,
   "metadata": {
    "collapsed": true
   },
   "outputs": [],
   "source": [
    "# 2. Only keep text within quotes - the regex tokenizer can help you out here\n",
    "from nltk import RegexpTokenizer\n",
    "tokenizer = RegexpTokenizer(\"[“”]\", gaps=True)\n",
    "\n",
    "# ...keep on coding"
   ]
  },
  {
   "cell_type": "markdown",
   "metadata": {},
   "source": [
    "### Build a simple Markov chain function"
   ]
  },
  {
   "cell_type": "markdown",
   "metadata": {},
   "source": [
    "Build a simple Markov chain function that creates a dictionary:\n",
    "* The keys should be all of the words in the corpus\n",
    "* The values should be a list of the words that follow the keys"
   ]
  },
  {
   "cell_type": "code",
   "execution_count": null,
   "metadata": {
    "collapsed": true
   },
   "outputs": [],
   "source": [
    "# Input code here"
   ]
  },
  {
   "cell_type": "markdown",
   "metadata": {},
   "source": [
    "Apply the function to the quotes. Your final output should look like this:\n",
    "    \n",
    "```\n",
    "{'Healing': ['comes'],\n",
    " 'comes': ['from', 'from'],\n",
    " 'from': ['taking', 'aesthetic', 'a',\n",
    "...\n",
    "```"
   ]
  },
  {
   "cell_type": "markdown",
   "metadata": {},
   "source": [
    "### Create a text generator"
   ]
  },
  {
   "cell_type": "markdown",
   "metadata": {},
   "source": [
    "Create a function that randomly generates sentences. It should take two things as inputs:\n",
    "* The dictionary you just created\n",
    "* The number of words you want generated\n",
    "\n",
    "Here are some examples of generated sentences:\n",
    "\n",
    ">'Enlarge the universe - it is who can turn a journey you have. Gratitude unlocks.'\n",
    "\n",
    ">'Something you are sad. All this world is freedom. Liking what you have to order.'"
   ]
  },
  {
   "cell_type": "code",
   "execution_count": null,
   "metadata": {
    "collapsed": true
   },
   "outputs": [],
   "source": [
    "# Input code here"
   ]
  },
  {
   "cell_type": "code",
   "execution_count": null,
   "metadata": {
    "collapsed": true
   },
   "outputs": [],
   "source": []
  }
 ],
 "metadata": {
  "kernelspec": {
   "display_name": "Python 3",
   "language": "python",
   "name": "python3"
  },
  "language_info": {
   "codemirror_mode": {
    "name": "ipython",
    "version": 3
   },
   "file_extension": ".py",
   "mimetype": "text/x-python",
   "name": "python",
   "nbconvert_exporter": "python",
   "pygments_lexer": "ipython3",
   "version": "3.6.2"
  },
  "toc": {
   "colors": {
    "hover_highlight": "#DAA520",
    "navigate_num": "#000000",
    "navigate_text": "#333333",
    "running_highlight": "#FF0000",
    "selected_highlight": "#FFD700",
    "sidebar_border": "#EEEEEE",
    "wrapper_background": "#FFFFFF"
   },
   "moveMenuLeft": true,
   "nav_menu": {
    "height": "177px",
    "width": "252px"
   },
   "navigate_menu": true,
   "number_sections": true,
   "sideBar": true,
   "threshold": 4,
   "toc_cell": false,
   "toc_section_display": "block",
   "toc_window_display": false,
   "widenNotebook": false
  },
  "varInspector": {
   "cols": {
    "lenName": 16,
    "lenType": 16,
    "lenVar": 40
   },
   "kernels_config": {
    "python": {
     "delete_cmd_postfix": "",
     "delete_cmd_prefix": "del ",
     "library": "var_list.py",
     "varRefreshCmd": "print(var_dic_list())"
    },
    "r": {
     "delete_cmd_postfix": ") ",
     "delete_cmd_prefix": "rm(",
     "library": "var_list.r",
     "varRefreshCmd": "cat(var_dic_list()) "
    }
   },
   "types_to_exclude": [
    "module",
    "function",
    "builtin_function_or_method",
    "instance",
    "_Feature"
   ],
   "window_display": false
  }
 },
 "nbformat": 4,
 "nbformat_minor": 2
}
