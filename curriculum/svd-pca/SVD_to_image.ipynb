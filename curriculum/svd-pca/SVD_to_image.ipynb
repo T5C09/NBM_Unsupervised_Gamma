{
 "cells": [
  {
   "cell_type": "markdown",
   "metadata": {},
   "source": [
    "# Singular Value Decomposition (SVD) for Image Compression\n"
   ]
  },
  {
   "cell_type": "markdown",
   "metadata": {},
   "source": [
    "Most of this [code](http://www.frankcleary.com/svdimage/) has been repackaged as a function."
   ]
  },
  {
   "cell_type": "code",
   "execution_count": null,
   "metadata": {},
   "outputs": [],
   "source": [
    "%matplotlib inline\n",
    "import matplotlib.pyplot as plt\n",
    "import numpy as np\n",
    "from PIL import Image"
   ]
  },
  {
   "cell_type": "code",
   "execution_count": null,
   "metadata": {},
   "outputs": [],
   "source": [
    "# Read image and convert to grayscale\n",
    "img = Image.open('f35.jpg')\n",
    "imggray = img.convert('LA')\n",
    "\n",
    "fig = plt.figure(figsize=(18, 12)) ## Figure object\n",
    "ax1 = fig.add_subplot(1, 2, 1) \n",
    "ax2 = fig.add_subplot(1, 2, 2)\n",
    "ax1.imshow(img)\n",
    "ax2.imshow(imggray);"
   ]
  },
  {
   "cell_type": "markdown",
   "metadata": {},
   "source": [
    "Let's have a look at the shape of the image. It's 640x800 and either 3 (RGB) or 2 (Greyscale/LA)"
   ]
  },
  {
   "cell_type": "code",
   "execution_count": null,
   "metadata": {},
   "outputs": [],
   "source": [
    "print(\"Colorize: \",np.array(img).shape)\n",
    "print(\"Greyscale: \",np.array(imggray).shape)"
   ]
  },
  {
   "cell_type": "code",
   "execution_count": null,
   "metadata": {},
   "outputs": [],
   "source": [
    "def image_to_svd_components(path, num_comps=5):\n",
    "    '''\n",
    "    Takes a jpeg image and outputs an image with the number of specified components.\n",
    "    \n",
    "    Parameters\n",
    "    ----------\n",
    "    path: string\n",
    "        path where jpeg image is located\n",
    "    \n",
    "    num_comps: int, optional, default: 5 \n",
    "        number of svd components to include\n",
    "    \n",
    "    Returns\n",
    "    ----------\n",
    "    image\n",
    "    '''\n",
    "    \n",
    "    # get image and convert to grayscale\n",
    "    img = Image.open(path)\n",
    "    imggray = img.convert('LA')\n",
    "    \n",
    "    # convert to numpy array\n",
    "    imgmat = np.array(list(img.getdata(band=0)), float)\n",
    "    imgmat.shape = (img.size[1], img.size[0])\n",
    "    imgmat = np.matrix(imgmat)\n",
    "    \n",
    "    U, sigma, V = np.linalg.svd(imgmat)\n",
    "    \n",
    "    reconst_img = np.matrix(U[:, :num_comps]) * np.diag(sigma[:num_comps]) * np.matrix(V[:num_comps, :])\n",
    "    print(\"Image Shape: \", np.array(reconst_img).shape)\n",
    "\n",
    "    return plt.imshow(reconst_img, cmap='gray')"
   ]
  },
  {
   "cell_type": "code",
   "execution_count": null,
   "metadata": {},
   "outputs": [],
   "source": [
    "# 10 Components\n",
    "plt.figure(figsize=(18, 12))\n",
    "image_to_svd_components('f35.jpg', 10);"
   ]
  },
  {
   "cell_type": "code",
   "execution_count": null,
   "metadata": {},
   "outputs": [],
   "source": [
    "# All 640 Components\n",
    "plt.figure(figsize=(18, 12))\n",
    "image_to_svd_components('f35.jpg', 640);"
   ]
  },
  {
   "cell_type": "markdown",
   "metadata": {},
   "source": [
    "Let's pull the math out of the function and see why this works out."
   ]
  },
  {
   "cell_type": "code",
   "execution_count": null,
   "metadata": {},
   "outputs": [],
   "source": [
    "num_comps = 10\n",
    "imgmat = np.array(list(img.getdata(band=0)), float)\n",
    "imgmat.shape = (img.size[1], img.size[0])\n",
    "imgmat = np.matrix(imgmat)\n",
    "\n",
    "U, sigma, V = np.linalg.svd(imgmat)\n",
    "reconst_img = np.matrix(U[:, :num_comps]) * np.diag(sigma[:num_comps]) * np.matrix(V[:num_comps, :])"
   ]
  },
  {
   "cell_type": "code",
   "execution_count": null,
   "metadata": {},
   "outputs": [],
   "source": [
    "print(\"--- Matrix Shapes ---\")\n",
    "print(\"U: \", U.shape)\n",
    "print(\"sigma: \", np.diag(sigma).shape)\n",
    "print(\"V: \", V.shape)"
   ]
  },
  {
   "cell_type": "code",
   "execution_count": null,
   "metadata": {},
   "outputs": [],
   "source": [
    "u_prime, sigma_prime, v_prime = np.matrix(U[:, :num_comps]), np.diag(sigma[:num_comps]), np.matrix(V[:num_comps, :])"
   ]
  },
  {
   "cell_type": "code",
   "execution_count": null,
   "metadata": {},
   "outputs": [],
   "source": [
    "print(\"--- Recon. Matrix Shapes ---\")\n",
    "print(\"U: \", u_prime.shape)\n",
    "print(\"sigma: \", sigma_prime.shape)\n",
    "print(\"V: \", v_prime.shape)"
   ]
  },
  {
   "cell_type": "markdown",
   "metadata": {},
   "source": [
    "When we extract the component matrices, they align in such a way that the multiplication works out - we get back the original image size, but now we've only accounted for 10 principle components. We've lost some information (we can't get back the EXACT matrix), but we've maintained the structure of the image and **some** of the information."
   ]
  },
  {
   "cell_type": "code",
   "execution_count": null,
   "metadata": {},
   "outputs": [],
   "source": [
    "print('--- Number of Values to Store ---')\n",
    "print(\"Full image: \",640*800)\n",
    "print(\"Reduced Image: \", 640*10+10+10*800)"
   ]
  },
  {
   "cell_type": "markdown",
   "metadata": {},
   "source": [
    "If we throw in 200 components, we can see that the image quality if very similar to the original - but we still can store less data overall. If each pixel were stored as a float (16 bits = 2 bytes), the difference would be from 1.024 MB to 576.4 kB. "
   ]
  },
  {
   "cell_type": "code",
   "execution_count": null,
   "metadata": {},
   "outputs": [],
   "source": [
    "# Try 200 Components\n",
    "num_comp = 200\n",
    "plt.figure(figsize=(18, 12))\n",
    "image_to_svd_components('f35.jpg', num_comp);\n",
    "print('--- Number of Values to Store ---')\n",
    "print(\"Full image: \", \"%s bytes\"% (640*800*2))\n",
    "print(\"Reduced Image: \", \"%s bytes\"% ((640*num_comp+num_comp+num_comp*800)*2))"
   ]
  },
  {
   "cell_type": "code",
   "execution_count": null,
   "metadata": {},
   "outputs": [],
   "source": [
    "import matplotlib.pyplot as plt\n",
    "import seaborn as sns\n",
    "X = range(600)\n",
    "Y = []\n",
    "prevy = 0\n",
    "dims_to_use = 10\n",
    "for x in X:\n",
    "    y = x + 640*x + 800*x - 640*800\n",
    "    Y.append(y)\n",
    "    if prevy < 0 and y >= 0:\n",
    "        print(\"Up to %s dimensions, you are compressing!\"% (x-1))\n",
    "        dims_to_use = x-1\n",
    "    prevy = y\n",
    "plt.figure(dpi=150)\n",
    "plt.plot([0,600],[0,0],'r--',lw=0.5)\n",
    "plt.plot(X,Y)\n",
    "plt.title(\"Compression Level: Cross over at {} dimensions\".format(dims_to_use))\n",
    "plt.xlabel(\"Number of Dimensions\")\n",
    "plt.ylabel(\"Change in File Size Compared To Original\")\n",
    "plt.figure(figsize=(18, 12))\n",
    "plt.grid(False)\n",
    "image_to_svd_components('f35.jpg', dims_to_use);"
   ]
  },
  {
   "cell_type": "code",
   "execution_count": null,
   "metadata": {},
   "outputs": [],
   "source": []
  }
 ],
 "metadata": {
  "anaconda-cloud": {},
  "kernelspec": {
   "display_name": "Python [conda env:metis]",
   "language": "python",
   "name": "conda-env-metis-py"
  },
  "language_info": {
   "codemirror_mode": {
    "name": "ipython",
    "version": 3
   },
   "file_extension": ".py",
   "mimetype": "text/x-python",
   "name": "python",
   "nbconvert_exporter": "python",
   "pygments_lexer": "ipython3",
   "version": "3.7.4"
  },
  "latex_envs": {
   "LaTeX_envs_menu_present": true,
   "bibliofile": "biblio.bib",
   "cite_by": "apalike",
   "current_citInitial": 1,
   "eqLabelWithNumbers": true,
   "eqNumInitial": 1,
   "hotkeys": {
    "equation": "Ctrl-E",
    "itemize": "Ctrl-I"
   },
   "labels_anchors": false,
   "latex_user_defs": false,
   "report_style_numbering": false,
   "user_envs_cfg": false
  },
  "toc": {
   "nav_menu": {
    "height": "30px",
    "width": "252px"
   },
   "number_sections": true,
   "sideBar": true,
   "skip_h1_title": false,
   "toc_cell": false,
   "toc_position": {},
   "toc_section_display": "block",
   "toc_window_display": false
  }
 },
 "nbformat": 4,
 "nbformat_minor": 1
}
