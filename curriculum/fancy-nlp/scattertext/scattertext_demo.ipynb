{
 "cells": [
  {
   "cell_type": "markdown",
   "metadata": {},
   "source": [
    "# Scattertext\n",
    "\n",
    "Scattertext is great for\n",
    "- Visually inspecting text\n",
    "- Comparing/Contrasting corpora\n",
    "- And more...\n",
    "\n",
    "Check out Jason Kessler's GitHub project for more information: [here](https://github.com/JasonKessler/scattertext)."
   ]
  },
  {
   "cell_type": "code",
   "execution_count": null,
   "metadata": {},
   "outputs": [],
   "source": [
    "import scattertext as st"
   ]
  },
  {
   "cell_type": "code",
   "execution_count": null,
   "metadata": {},
   "outputs": [],
   "source": [
    "convention_df = st.SampleCorpora.ConventionData2012.get_data()"
   ]
  },
  {
   "cell_type": "code",
   "execution_count": null,
   "metadata": {},
   "outputs": [],
   "source": [
    "convention_df.head()"
   ]
  },
  {
   "cell_type": "code",
   "execution_count": null,
   "metadata": {},
   "outputs": [],
   "source": [
    "corpus = st.CorpusFromPandas(convention_df,\n",
    "                             category_col='party',\n",
    "                             text_col='text',\n",
    "                             nlp=st.whitespace_nlp_with_sentences\n",
    "                            ).build()"
   ]
  },
  {
   "cell_type": "code",
   "execution_count": null,
   "metadata": {},
   "outputs": [],
   "source": [
    "html = st.produce_scattertext_explorer(\n",
    "        corpus,\n",
    "        category='democrat',\n",
    "        category_name='Democratic',\n",
    "        not_category_name='Republican',\n",
    "        minimum_term_frequency=10,\n",
    "        pmi_threshold_coefficient=5,\n",
    "        width_in_pixels=1000,\n",
    "        metadata=convention_df['speaker'],\n",
    "        )"
   ]
  },
  {
   "cell_type": "code",
   "execution_count": null,
   "metadata": {},
   "outputs": [],
   "source": [
    "open('demo.html', 'wb').write(html.encode('utf-8'));"
   ]
  },
  {
   "cell_type": "code",
   "execution_count": null,
   "metadata": {},
   "outputs": [],
   "source": []
  }
 ],
 "metadata": {
  "kernelspec": {
   "display_name": "Python [conda env:metis] *",
   "language": "python",
   "name": "conda-env-metis-py"
  },
  "language_info": {
   "codemirror_mode": {
    "name": "ipython",
    "version": 3
   },
   "file_extension": ".py",
   "mimetype": "text/x-python",
   "name": "python",
   "nbconvert_exporter": "python",
   "pygments_lexer": "ipython3",
   "version": "3.8.6"
  }
 },
 "nbformat": 4,
 "nbformat_minor": 2
}
