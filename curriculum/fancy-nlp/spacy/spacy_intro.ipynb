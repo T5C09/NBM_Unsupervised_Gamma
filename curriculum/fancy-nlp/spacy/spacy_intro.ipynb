{
 "cells": [
  {
   "cell_type": "markdown",
   "metadata": {
    "colab_type": "text",
    "id": "8QqUow3PT0_-"
   },
   "source": [
    "# Introduction to spaCy"
   ]
  },
  {
   "cell_type": "markdown",
   "metadata": {
    "colab_type": "text",
    "id": "Pno8kYgQWnb_"
   },
   "source": [
    "This code accompanies Kim Fessel's post on the ODSC blog: [\"Level Up: spaCy NLP for the Win,\"](https://opendatascience.com/level-up-spacy-nlp-for-the-win/) published February 2020."
   ]
  },
  {
   "cell_type": "markdown",
   "metadata": {},
   "source": [
    "## spaCy Installation"
   ]
  },
  {
   "cell_type": "markdown",
   "metadata": {},
   "source": [
    "Install spaCy with pip:\n",
    "\n",
    "`pip install spacy`\n",
    "\n",
    "You will also need to download a language model.  For learning purposes, we will just start with this small English model:\n",
    "\n",
    "`python -m spacy download en_core_web_sm`"
   ]
  },
  {
   "cell_type": "markdown",
   "metadata": {
    "colab_type": "text",
    "id": "O7dTYqpxdNmz"
   },
   "source": [
    "## spaCy Basics"
   ]
  },
  {
   "cell_type": "markdown",
   "metadata": {
    "colab_type": "text",
    "id": "M71oxY99Wi8z"
   },
   "source": [
    "### Tokenization"
   ]
  },
  {
   "cell_type": "code",
   "execution_count": null,
   "metadata": {
    "colab": {},
    "colab_type": "code",
    "id": "V-w0Z6m_bppm"
   },
   "outputs": [],
   "source": [
    "import spacy\n",
    "nlp = spacy.load('en_core_web_sm')"
   ]
  },
  {
   "cell_type": "code",
   "execution_count": null,
   "metadata": {
    "colab": {},
    "colab_type": "code",
    "id": "XDldUMmVbw7Q"
   },
   "outputs": [],
   "source": [
    "review = \"I'm so happy I went to this awesome Vegas buffet!\""
   ]
  },
  {
   "cell_type": "code",
   "execution_count": null,
   "metadata": {
    "colab": {},
    "colab_type": "code",
    "id": "JIDZdgv_eV4J"
   },
   "outputs": [],
   "source": [
    "doc = nlp(review)"
   ]
  },
  {
   "cell_type": "markdown",
   "metadata": {
    "colab_type": "text",
    "id": "PG6dMRL1Xfh6"
   },
   "source": [
    "> \"The resulting spaCy document is a rich collection of tokens that have been annotated with many attributes... To see this in action, loop over each token in the document and print out the part of speech, lemma, and whether or not this token is a so-called stop word.\""
   ]
  },
  {
   "cell_type": "code",
   "execution_count": null,
   "metadata": {
    "colab": {
     "base_uri": "https://localhost:8080/",
     "height": 225
    },
    "colab_type": "code",
    "id": "PUMy3SdSeXbU",
    "outputId": "585942b1-697b-476f-d7fb-52b666061d73"
   },
   "outputs": [],
   "source": [
    "for token in doc:\n",
    "    print(token.text, token.pos_, token.lemma_, token.is_stop)"
   ]
  },
  {
   "cell_type": "markdown",
   "metadata": {
    "colab_type": "text",
    "id": "29VvhHj0XFGo"
   },
   "source": [
    "> \"... spaCy tokenizes text in an entirely nondestructive manner... The underlying text does not change... spaCy does not explicitly break the original text into a list, but tokens can be accessed by index span.\""
   ]
  },
  {
   "cell_type": "code",
   "execution_count": null,
   "metadata": {
    "colab": {
     "base_uri": "https://localhost:8080/",
     "height": 35
    },
    "colab_type": "code",
    "id": "ZKum0UfDh8KE",
    "outputId": "2e76bc0c-5923-401e-bc92-e3bac15239e6"
   },
   "outputs": [],
   "source": [
    "doc.text"
   ]
  },
  {
   "cell_type": "code",
   "execution_count": null,
   "metadata": {
    "colab": {
     "base_uri": "https://localhost:8080/",
     "height": 35
    },
    "colab_type": "code",
    "id": "_W9zKf1-jIzz",
    "outputId": "6103a564-84cf-424e-c4be-5fb44d6be91c"
   },
   "outputs": [],
   "source": [
    "doc[:5]"
   ]
  },
  {
   "cell_type": "code",
   "execution_count": null,
   "metadata": {
    "colab": {
     "base_uri": "https://localhost:8080/",
     "height": 35
    },
    "colab_type": "code",
    "id": "A4m2OZEhmBNA",
    "outputId": "44a98566-6a25-49c2-9e67-52076dbaa90e"
   },
   "outputs": [],
   "source": [
    "doc[-5:-1]"
   ]
  },
  {
   "cell_type": "markdown",
   "metadata": {
    "colab_type": "text",
    "id": "PvNJHb8NX5lm"
   },
   "source": [
    "> \"spaCy also performs automatic sentence detection.  Iterating over the generator `doc.sents` yields each recognized sentence.\""
   ]
  },
  {
   "cell_type": "code",
   "execution_count": null,
   "metadata": {
    "colab": {
     "base_uri": "https://localhost:8080/",
     "height": 35
    },
    "colab_type": "code",
    "id": "jRXdHlhVm45d",
    "outputId": "0203bd93-f83d-4690-f808-a8e357717125"
   },
   "outputs": [],
   "source": [
    "type(doc.sents)"
   ]
  },
  {
   "cell_type": "code",
   "execution_count": null,
   "metadata": {
    "colab": {
     "base_uri": "https://localhost:8080/",
     "height": 35
    },
    "colab_type": "code",
    "id": "beSQGCVQqtzN",
    "outputId": "e4f2a7d2-a2d9-46b9-c664-7ab2975d4e91"
   },
   "outputs": [],
   "source": [
    "for sent in doc.sents:\n",
    "    print(sent)"
   ]
  },
  {
   "cell_type": "markdown",
   "metadata": {
    "colab_type": "text",
    "id": "S8SH-GyeYNRk"
   },
   "source": [
    "### Dependencies"
   ]
  },
  {
   "cell_type": "markdown",
   "metadata": {
    "colab_type": "text",
    "id": "yNKJUcBIYRaU"
   },
   "source": [
    "> \"... spaCy provides syntactic parsing to show word usage, thus creating a dependency tree...\""
   ]
  },
  {
   "cell_type": "code",
   "execution_count": null,
   "metadata": {
    "colab": {
     "base_uri": "https://localhost:8080/",
     "height": 225
    },
    "colab_type": "code",
    "id": "aZvDeqJV9642",
    "outputId": "07d39487-28b6-4df4-84ba-7138d0968da2"
   },
   "outputs": [],
   "source": [
    "for token in doc:\n",
    "    print(token.text, token.dep_)"
   ]
  },
  {
   "cell_type": "markdown",
   "metadata": {
    "colab_type": "text",
    "id": "TW2hCh7CYcS_"
   },
   "source": [
    "> \"... visualizing these relationships reveals an even more comprehensive story.  First load a submodule called displaCy to help with the visualization... ask displaCy to render the dependency tree...\""
   ]
  },
  {
   "cell_type": "code",
   "execution_count": null,
   "metadata": {
    "colab": {},
    "colab_type": "code",
    "id": "BazrGJJ1qt2J"
   },
   "outputs": [],
   "source": [
    "from spacy import displacy"
   ]
  },
  {
   "cell_type": "code",
   "execution_count": null,
   "metadata": {
    "colab": {
     "base_uri": "https://localhost:8080/",
     "height": 378
    },
    "colab_type": "code",
    "id": "EWsUix2VrL2m",
    "outputId": "5a08331f-b2b3-4096-8ea0-c0d02f21214a"
   },
   "outputs": [],
   "source": [
    "displacy.render(doc, style='dep', options={'distance': 80}) "
   ]
  },
  {
   "cell_type": "markdown",
   "metadata": {
    "colab_type": "text",
    "id": "ZANgLmbxY-WZ"
   },
   "source": [
    "> \"You can even traverse this parse tree... spaCy accurately labels 'awesome' as an adjectival modifier (amod) and also detects its relationship to 'buffet':\""
   ]
  },
  {
   "cell_type": "code",
   "execution_count": null,
   "metadata": {
    "colab": {},
    "colab_type": "code",
    "id": "2zhSmF9s0hHR"
   },
   "outputs": [],
   "source": [
    "from spacy.symbols import amod"
   ]
  },
  {
   "cell_type": "code",
   "execution_count": null,
   "metadata": {
    "colab": {
     "base_uri": "https://localhost:8080/",
     "height": 35
    },
    "colab_type": "code",
    "id": "qCg3uCGerlqK",
    "outputId": "75119019-c0ca-46b2-9138-72e3179ace11"
   },
   "outputs": [],
   "source": [
    "for token in doc:\n",
    "    if token.dep_ == 'amod':\n",
    "        print(f\"ADJ MODIFIER: {token.text} --> NOUN: {token.head}\")"
   ]
  },
  {
   "cell_type": "code",
   "execution_count": null,
   "metadata": {
    "colab": {
     "base_uri": "https://localhost:8080/",
     "height": 35
    },
    "colab_type": "code",
    "id": "8S5-ruJI0yj3",
    "outputId": "edfe2b6b-ee0b-42a8-b50e-73c9b8904a6a"
   },
   "outputs": [],
   "source": [
    "spacy.explain(\"amod\")"
   ]
  },
  {
   "cell_type": "markdown",
   "metadata": {
    "colab_type": "text",
    "id": "FgmfrbUmZbfI"
   },
   "source": [
    "### Named Entity Recognition"
   ]
  },
  {
   "cell_type": "markdown",
   "metadata": {
    "colab_type": "text",
    "id": "MG7bfUpuZjo0"
   },
   "source": [
    "> \"To see which tokens spaCy identifies as named entities... simply cycle through `doc.ents`\""
   ]
  },
  {
   "cell_type": "code",
   "execution_count": null,
   "metadata": {
    "colab": {
     "base_uri": "https://localhost:8080/",
     "height": 35
    },
    "colab_type": "code",
    "id": "ucP8mrbI-7GS",
    "outputId": "d3c10f16-3ca6-4bd2-a549-1cac7859e447"
   },
   "outputs": [],
   "source": [
    "for ent in doc.ents:\n",
    "    print(ent.text, ent.label_)"
   ]
  },
  {
   "cell_type": "code",
   "execution_count": null,
   "metadata": {
    "colab": {
     "base_uri": "https://localhost:8080/",
     "height": 35
    },
    "colab_type": "code",
    "id": "51kEbwUy-8q1",
    "outputId": "34a4a899-3c7c-4258-a448-ec81ebadcb37"
   },
   "outputs": [],
   "source": [
    "spacy.explain(\"GPE\")"
   ]
  },
  {
   "cell_type": "code",
   "execution_count": null,
   "metadata": {
    "colab": {
     "base_uri": "https://localhost:8080/",
     "height": 52
    },
    "colab_type": "code",
    "id": "FzJb7GdU_s76",
    "outputId": "12931339-63c8-4648-d74d-b7b2f54bd707"
   },
   "outputs": [],
   "source": [
    "displacy.render(doc, style='ent', jupyter=True)"
   ]
  },
  {
   "cell_type": "markdown",
   "metadata": {
    "colab_type": "text",
    "id": "m-PU3eE1Zyhw"
   },
   "source": [
    "> \"Consider this more complicated example with four different kinds of entities; displaCy provides unique colors to each.\""
   ]
  },
  {
   "cell_type": "code",
   "execution_count": null,
   "metadata": {
    "colab": {},
    "colab_type": "code",
    "id": "OFliDFGsAYbl"
   },
   "outputs": [],
   "source": [
    "document = nlp(\n",
    "    \"One year ago, I visited the Eiffel Tower with Jeff in Paris, France.\"\n",
    "    )"
   ]
  },
  {
   "cell_type": "code",
   "execution_count": null,
   "metadata": {
    "colab": {
     "base_uri": "https://localhost:8080/",
     "height": 52
    },
    "colab_type": "code",
    "id": "uyOG_9nBBwA-",
    "outputId": "f2431578-6815-405e-d809-5de7654e30e8"
   },
   "outputs": [],
   "source": [
    "displacy.render(document, style='ent', jupyter=True)"
   ]
  },
  {
   "cell_type": "code",
   "execution_count": null,
   "metadata": {
    "colab": {
     "base_uri": "https://localhost:8080/",
     "height": 35
    },
    "colab_type": "code",
    "id": "iFH_F7-NBznE",
    "outputId": "5bc4314b-2f10-40d8-d5fd-28a730b521d9"
   },
   "outputs": [],
   "source": [
    "spacy.explain(\"FAC\")"
   ]
  },
  {
   "cell_type": "markdown",
   "metadata": {
    "colab_type": "text",
    "id": "hSahTaWdGsuQ"
   },
   "source": [
    "## Case Study: Restaurant Reviews\n",
    "\n",
    "> \"We will examine [this Kaggle dataset](https://www.kaggle.com/vigneshwarsofficial/reviews), consisting of 1,000 [restaurant] reviews labeled by sentiment.\""
   ]
  },
  {
   "cell_type": "code",
   "execution_count": null,
   "metadata": {
    "colab": {},
    "colab_type": "code",
    "id": "UugEYGeaGxvL"
   },
   "outputs": [],
   "source": [
    "import pandas as pd\n",
    "\n",
    "pd.set_option('max_colwidth', 100)"
   ]
  },
  {
   "cell_type": "code",
   "execution_count": null,
   "metadata": {
    "colab": {},
    "colab_type": "code",
    "id": "ez5LUYJUGt9P"
   },
   "outputs": [],
   "source": [
    "url = 'http://bit.ly/375FDrO'  #Kaggle dataset\n",
    "\n",
    "df = pd.read_csv(url, sep='\\t')"
   ]
  },
  {
   "cell_type": "code",
   "execution_count": null,
   "metadata": {
    "colab": {
     "base_uri": "https://localhost:8080/",
     "height": 35
    },
    "colab_type": "code",
    "id": "pL3vP8PIGwv5",
    "outputId": "3103bd60-07ba-4df0-b159-c907b1adb5c8"
   },
   "outputs": [],
   "source": [
    "df.shape"
   ]
  },
  {
   "cell_type": "code",
   "execution_count": null,
   "metadata": {
    "colab": {},
    "colab_type": "code",
    "id": "sLQjGiYPMnJN"
   },
   "outputs": [],
   "source": [
    "df.columns = ['text', 'rating']"
   ]
  },
  {
   "cell_type": "code",
   "execution_count": null,
   "metadata": {
    "colab": {
     "base_uri": "https://localhost:8080/",
     "height": 198
    },
    "colab_type": "code",
    "id": "7yTjnHjvMo4c",
    "outputId": "80b7cff4-12ed-4060-fa8e-b262854e31bb"
   },
   "outputs": [],
   "source": [
    "df.head()"
   ]
  },
  {
   "cell_type": "markdown",
   "metadata": {
    "colab_type": "text",
    "id": "_aQV4MOFb0g8"
   },
   "source": [
    "### Pipelines"
   ]
  },
  {
   "cell_type": "markdown",
   "metadata": {
    "colab_type": "text",
    "id": "cpfvDVgTanh-"
   },
   "source": [
    "> \"We will now use spaCy's `pipe` method in order to process multiple documents in one go.\""
   ]
  },
  {
   "cell_type": "code",
   "execution_count": null,
   "metadata": {
    "colab": {},
    "colab_type": "code",
    "id": "PvOjCdXT4Y5C"
   },
   "outputs": [],
   "source": [
    "df['spacy_doc'] = list(nlp.pipe(df.text))"
   ]
  },
  {
   "cell_type": "code",
   "execution_count": null,
   "metadata": {
    "colab": {
     "base_uri": "https://localhost:8080/",
     "height": 215
    },
    "colab_type": "code",
    "id": "Qwz-o5ad4z2p",
    "outputId": "9e036aa4-9a8c-4ba3-de68-92453f107b52"
   },
   "outputs": [],
   "source": [
    "df.head()"
   ]
  },
  {
   "cell_type": "markdown",
   "metadata": {
    "colab_type": "text",
    "id": "YgdHq1g7b3Kk"
   },
   "source": [
    "### Parts of Speech by Sentiment"
   ]
  },
  {
   "cell_type": "markdown",
   "metadata": {
    "colab_type": "text",
    "id": "y8JIu6MkbQyp"
   },
   "source": [
    "> \"Splitting the information by sentiment...\""
   ]
  },
  {
   "cell_type": "code",
   "execution_count": null,
   "metadata": {
    "colab": {},
    "colab_type": "code",
    "id": "pP9_ECBuzbqX"
   },
   "outputs": [],
   "source": [
    "positive_reviews = df[df.rating==1]\n",
    "negative_reviews = df[df.rating==0]"
   ]
  },
  {
   "cell_type": "markdown",
   "metadata": {
    "colab_type": "text",
    "id": "z47hKax9baPE"
   },
   "source": [
    "> \"What are the most common adjectives used in positive versus negative reviews?... Let's [also] check the nouns...\""
   ]
  },
  {
   "cell_type": "code",
   "execution_count": null,
   "metadata": {
    "colab": {},
    "colab_type": "code",
    "id": "-gW5WqyPxa9B"
   },
   "outputs": [],
   "source": [
    "pos_adj = [token.text.lower() for doc in positive_reviews.spacy_doc for token in doc if token.pos_=='ADJ']\n",
    "neg_adj = [token.text.lower() for doc in negative_reviews.spacy_doc for token in doc if token.pos_=='ADJ']\n",
    "\n",
    "pos_noun = [token.text.lower() for doc in positive_reviews.spacy_doc for token in doc if token.pos_=='NOUN']\n",
    "neg_noun = [token.text.lower() for doc in negative_reviews.spacy_doc for token in doc if token.pos_=='NOUN']"
   ]
  },
  {
   "cell_type": "code",
   "execution_count": null,
   "metadata": {
    "colab": {},
    "colab_type": "code",
    "id": "d1I48zkZ_8QJ"
   },
   "outputs": [],
   "source": [
    "from collections import Counter"
   ]
  },
  {
   "cell_type": "code",
   "execution_count": null,
   "metadata": {
    "colab": {
     "base_uri": "https://localhost:8080/",
     "height": 190
    },
    "colab_type": "code",
    "id": "CsSmvQXFBcLT",
    "outputId": "dcbd6c03-c87f-488e-885a-db2ed2ad7265"
   },
   "outputs": [],
   "source": [
    "Counter(pos_adj).most_common(10)"
   ]
  },
  {
   "cell_type": "code",
   "execution_count": null,
   "metadata": {
    "colab": {
     "base_uri": "https://localhost:8080/",
     "height": 190
    },
    "colab_type": "code",
    "id": "Zs-ORfoVyq0f",
    "outputId": "0008a35e-bffb-448e-85f3-2b9297b771db"
   },
   "outputs": [],
   "source": [
    "Counter(neg_adj).most_common(10)"
   ]
  },
  {
   "cell_type": "code",
   "execution_count": null,
   "metadata": {
    "colab": {
     "base_uri": "https://localhost:8080/",
     "height": 190
    },
    "colab_type": "code",
    "id": "n2DspdnlDOwO",
    "outputId": "92859989-15f4-4329-dadc-75d87dae7004"
   },
   "outputs": [],
   "source": [
    "Counter(pos_noun).most_common(10)"
   ]
  },
  {
   "cell_type": "code",
   "execution_count": null,
   "metadata": {
    "colab": {
     "base_uri": "https://localhost:8080/",
     "height": 190
    },
    "colab_type": "code",
    "id": "GMtvmvz5DRV0",
    "outputId": "b61f9ba1-463e-48ba-ae53-343f1e89e913"
   },
   "outputs": [],
   "source": [
    "Counter(neg_noun).most_common(10)"
   ]
  },
  {
   "cell_type": "markdown",
   "metadata": {
    "colab_type": "text",
    "id": "NSIxYk66btam"
   },
   "source": [
    "### Dependency Parsing"
   ]
  },
  {
   "cell_type": "markdown",
   "metadata": {
    "colab_type": "text",
    "id": "ordklaaDb-BH"
   },
   "source": [
    "> \"For a given noun of interest, extract each of the adjectival modifiers that are among its children tokens...\""
   ]
  },
  {
   "cell_type": "code",
   "execution_count": null,
   "metadata": {
    "colab": {},
    "colab_type": "code",
    "id": "oKoearRdEY5F"
   },
   "outputs": [],
   "source": [
    "from spacy.symbols import amod\n",
    "from pprint import pprint"
   ]
  },
  {
   "cell_type": "code",
   "execution_count": null,
   "metadata": {
    "colab": {},
    "colab_type": "code",
    "id": "N-d-ophRJcEf"
   },
   "outputs": [],
   "source": [
    "def get_amods(noun, ser):\n",
    "    amod_list = []\n",
    "    for doc in ser:\n",
    "        for token in doc:\n",
    "            if (token.text) == noun:\n",
    "                for child in token.children:\n",
    "                    if child.dep == amod:\n",
    "                        amod_list.append(child.text.lower())\n",
    "    return sorted(amod_list)\n",
    "\n",
    "def amods_by_sentiment(noun):\n",
    "    print(f\"Adjectives describing {str.upper(noun)}:\\n\")\n",
    "    \n",
    "    print(\"POSITIVE:\")\n",
    "    pprint(get_amods(noun, positive_reviews.spacy_doc))\n",
    "    \n",
    "    print(\"\\nNEGATIVE:\")\n",
    "    pprint(get_amods(noun, negative_reviews.spacy_doc))"
   ]
  },
  {
   "cell_type": "code",
   "execution_count": null,
   "metadata": {
    "colab": {
     "base_uri": "https://localhost:8080/",
     "height": 743
    },
    "colab_type": "code",
    "id": "h85RLKRPzIyD",
    "outputId": "f05fede4-2b49-4064-d30d-64245e7e73af"
   },
   "outputs": [],
   "source": [
    "amods_by_sentiment(\"food\")"
   ]
  },
  {
   "cell_type": "code",
   "execution_count": null,
   "metadata": {
    "colab": {
     "base_uri": "https://localhost:8080/",
     "height": 725
    },
    "colab_type": "code",
    "id": "2Z7LvZq6JmYf",
    "outputId": "ccd1d782-c2b3-47ab-8a8f-b133b4d36e39"
   },
   "outputs": [],
   "source": [
    "amods_by_sentiment(\"service\")"
   ]
  },
  {
   "cell_type": "code",
   "execution_count": null,
   "metadata": {},
   "outputs": [],
   "source": []
  }
 ],
 "metadata": {
  "colab": {
   "collapsed_sections": [],
   "name": "ODSC-East-2020_spaCy_Intro.ipynb",
   "provenance": []
  },
  "kernelspec": {
   "display_name": "Python [conda env:metis] *",
   "language": "python",
   "name": "conda-env-metis-py"
  },
  "language_info": {
   "codemirror_mode": {
    "name": "ipython",
    "version": 3
   },
   "file_extension": ".py",
   "mimetype": "text/x-python",
   "name": "python",
   "nbconvert_exporter": "python",
   "pygments_lexer": "ipython3",
   "version": "3.8.6"
  }
 },
 "nbformat": 4,
 "nbformat_minor": 1
}
