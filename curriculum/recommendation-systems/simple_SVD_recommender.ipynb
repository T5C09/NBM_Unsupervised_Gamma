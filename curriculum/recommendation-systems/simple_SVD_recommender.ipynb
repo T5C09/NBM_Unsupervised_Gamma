{
 "cells": [
  {
   "cell_type": "markdown",
   "metadata": {},
   "source": [
    "# A simple example of SVD for recommendation"
   ]
  },
  {
   "cell_type": "markdown",
   "metadata": {},
   "source": [
    "**Note: Before running this, have a read through. Some of the discussion is based on my particular randomly generated data**"
   ]
  },
  {
   "cell_type": "code",
   "execution_count": null,
   "metadata": {},
   "outputs": [],
   "source": [
    "import pandas as pd\n",
    "import numpy as np"
   ]
  },
  {
   "cell_type": "markdown",
   "metadata": {},
   "source": [
    "First, let's generate a really simple data set. Each row is a user, and each column is an item. If the value for a user:item location is 1; that user has \"liked\" that item on _SocialMediaster-SellingMaster<sup>TM</sup>_, my new social media platform for people who like items and things and stuff."
   ]
  },
  {
   "cell_type": "code",
   "execution_count": null,
   "metadata": {},
   "outputs": [],
   "source": [
    "num_users = 10\n",
    "num_items = 5\n",
    "np.random.seed(42)\n",
    "def generate_users(num_users, num_items):\n",
    "    data = []\n",
    "    for i in range(num_users):\n",
    "        user = [np.random.randint(2) for _ in range(num_items)]\n",
    "        data.append(user)\n",
    "    return data\n",
    "cols = [\"item\"+str(i) for i in range(num_items)]\n",
    "rows = [\"user\"+str(i) for i in range(num_users)]\n",
    "user_item_mat = pd.DataFrame(generate_users(num_users,num_items), columns=cols)\n",
    "user_item_mat.index = rows\n",
    "user_item_mat         "
   ]
  },
  {
   "cell_type": "markdown",
   "metadata": {},
   "source": [
    "Now, let's do some SVD. This is a small enough dataset that I really don't need to truncate... but in most large scale recommenders you WILL need to truncate, so we're going to start with only 3 components of SVD. "
   ]
  },
  {
   "cell_type": "code",
   "execution_count": null,
   "metadata": {},
   "outputs": [],
   "source": [
    "from scipy.linalg import svd\n",
    "\n",
    "U, Sigma, VT = svd(user_item_mat)"
   ]
  },
  {
   "cell_type": "markdown",
   "metadata": {},
   "source": [
    "As a reminder, here's what we're expecting to see:\n",
    "\n",
    "<img src=\"http://zwmiller.com/projects/images/svd_breakdown.png\">"
   ]
  },
  {
   "cell_type": "markdown",
   "metadata": {},
   "source": [
    "Great, so now what do we have? In this case **VT** is now a matrix where each column represents one of the items in the new vector space. Each row is one component of the vector space, for the items."
   ]
  },
  {
   "cell_type": "code",
   "execution_count": null,
   "metadata": {},
   "outputs": [],
   "source": [
    "VT = VT[:3,:]\n",
    "pd.DataFrame(VT)"
   ]
  },
  {
   "cell_type": "markdown",
   "metadata": {},
   "source": [
    "If I transpose this, the rows are items, and the columns are the items in the \"hidden\" vector space created by the truncated SVD."
   ]
  },
  {
   "cell_type": "code",
   "execution_count": null,
   "metadata": {},
   "outputs": [],
   "source": [
    "pd.DataFrame(VT.T)"
   ]
  },
  {
   "cell_type": "markdown",
   "metadata": {},
   "source": [
    "**U** is a matrix where each row is a user and each column shows the location in the hidden vector space created by the SVD."
   ]
  },
  {
   "cell_type": "code",
   "execution_count": null,
   "metadata": {},
   "outputs": [],
   "source": [
    "U = U[:,:3]\n",
    "pd.DataFrame(U)"
   ]
  },
  {
   "cell_type": "markdown",
   "metadata": {},
   "source": [
    "**Sigma** is just the singular values of the decomposition. In this case, we're not particularly interested in **Sigma**."
   ]
  },
  {
   "cell_type": "code",
   "execution_count": null,
   "metadata": {},
   "outputs": [],
   "source": [
    "Sigma = Sigma[:3]\n",
    "pd.DataFrame(np.diag(Sigma))"
   ]
  },
  {
   "cell_type": "markdown",
   "metadata": {},
   "source": [
    "## Simple example with named entities to show this method works"
   ]
  },
  {
   "cell_type": "code",
   "execution_count": null,
   "metadata": {},
   "outputs": [],
   "source": [
    "import pandas as pd\n",
    "data = [[5,4,5,0,0,0],[3,3,3,0,0,0],[5,5,5,0,0,0],[4,5,4,0,0,0],[0,0,0,3,3,3],[0,0,0,5,5,5],[0,0,0,4,5,4],[0,0,0,0,0,0]]\n",
    "df = pd.DataFrame(data)"
   ]
  },
  {
   "cell_type": "code",
   "execution_count": null,
   "metadata": {},
   "outputs": [],
   "source": [
    "cols = ['Star Wars', 'Star Trek', 'Space Balls', 'Diehard','Lethal Weapon', 'Terminator']\n",
    "rows = [\"user\"+str(i) for i in range(8)]\n",
    "df.index = rows\n",
    "df.columns = cols\n",
    "df"
   ]
  },
  {
   "cell_type": "code",
   "execution_count": null,
   "metadata": {},
   "outputs": [],
   "source": [
    "from scipy.linalg import svd\n",
    "\n",
    "U_test, Sigma_test, VT_test = svd(df)\n",
    "VT_test = VT_test[:2,:]\n",
    "U_test = U_test[:,:2]"
   ]
  },
  {
   "cell_type": "code",
   "execution_count": null,
   "metadata": {},
   "outputs": [],
   "source": [
    "movie_concept_test = pd.DataFrame(VT_test, columns=cols)\n",
    "movie_concept_test.T"
   ]
  },
  {
   "cell_type": "code",
   "execution_count": null,
   "metadata": {},
   "outputs": [],
   "source": [
    "user_concept_test = pd.DataFrame(U_test, index=rows)"
   ]
  },
  {
   "cell_type": "code",
   "execution_count": null,
   "metadata": {},
   "outputs": [],
   "source": [
    "user_concept_test"
   ]
  },
  {
   "cell_type": "markdown",
   "metadata": {},
   "source": [
    "## Now back to our normal data\n",
    "\n",
    "Now, let's take a look at the matrix again. \n",
    "\n",
    "Let's note a few things (assuming you are still looking at my data and haven't re-run anything yet):\n",
    " * Items 0 and 4 have a lot of overlapping users. Users that like Item 2, tend to also like Item 3.\n",
    " * Users 6 and 8 like exactly the same items."
   ]
  },
  {
   "cell_type": "code",
   "execution_count": null,
   "metadata": {},
   "outputs": [],
   "source": [
    "user_item_mat"
   ]
  },
  {
   "cell_type": "code",
   "execution_count": null,
   "metadata": {},
   "outputs": [],
   "source": [
    "import matplotlib.pyplot as plt\n",
    "from mpl_toolkits.mplot3d import Axes3D\n",
    "%matplotlib inline\n",
    "plt.style.use('seaborn')\n",
    "\n",
    "fig = plt.figure(figsize=(20,16))\n",
    "ax = fig.gca(projection='3d')\n",
    "ax.scatter(U[:,0],U[:,1],U[:,2],c='k',s=150);\n",
    "ax.set_xlabel(\"D1\", fontsize=20, labelpad=20)\n",
    "ax.set_ylabel(\"D2\", fontsize=20, labelpad=20)\n",
    "ax.set_zlabel(\"D3\", fontsize=20, labelpad=20);\n",
    "\n",
    "lbls = user_item_mat.index\n",
    "offset = 0.01\n",
    "for i, txt in enumerate(lbls):\n",
    "    if i not in [6,7]:\n",
    "        ax.text(U[i,0]+offset,U[i,1],U[i,2],txt, fontsize=20)\n",
    "    else:\n",
    "        ax.text(U[i,0]+offset,U[i,1],U[i,2]+5*offset,txt, fontsize=20)\n"
   ]
  },
  {
   "cell_type": "code",
   "execution_count": null,
   "metadata": {},
   "outputs": [],
   "source": [
    "fig = plt.figure(figsize=(20,16))\n",
    "ax = fig.gca(projection='3d')\n",
    "ax.scatter(VT.T[:,0],VT.T[:,1],VT.T[:,2],c='b',s=150, label=\"Items\");\n",
    "ax.scatter(U[:,0],U[:,1],U[:,2],c='r',s=150, label=\"Users\");\n",
    "ax.set_xlabel(\"D1\", fontsize=20, labelpad=20)\n",
    "ax.set_ylabel(\"D2\", fontsize=20, labelpad=20)\n",
    "ax.set_zlabel(\"D3\", fontsize=20, labelpad=20);\n",
    "\n",
    "lbls = user_item_mat.columns\n",
    "item_offset = 0.01\n",
    "for i, txt in enumerate(lbls):\n",
    "    if i not in [6,7]:\n",
    "        ax.text(VT.T[i,0],VT.T[i,1]+item_offset,VT.T[i,2],txt, fontsize=20)\n",
    "    else:\n",
    "        ax.text(VT.T[i,0],VT.T[i,1]+item_offset,VT.T[i,2]+5*item_offset,txt, fontsize=20)\n",
    "\n",
    "lbls = user_item_mat.index\n",
    "offset = 0.01\n",
    "for i, txt in enumerate(lbls):\n",
    "    if i not in [6,7]:\n",
    "        ax.text(U[i,0],U[i,1]+offset,U[i,2],txt, fontsize=20)\n",
    "    else:\n",
    "        ax.text(U[i,0],U[i,1]+offset,U[i,2]+6*offset,txt, fontsize=20)\n",
    "ax.view_init(30,15)\n",
    "plt.legend(loc=\"upper left\", fontsize=30);"
   ]
  },
  {
   "cell_type": "markdown",
   "metadata": {},
   "source": [
    "So, if we look in our new hidden vector space and take the dot products of items (cosine similarity!), we expect that items 2 & 3 are the most similar. "
   ]
  },
  {
   "cell_type": "code",
   "execution_count": null,
   "metadata": {},
   "outputs": [],
   "source": [
    "compare_item = 2\n",
    "for item in range(num_items):\n",
    "    if item != compare_item:\n",
    "        print(\"Item %s & %s: \"%(compare_item,item), np.dot(VT.T[compare_item],VT.T[item]))"
   ]
  },
  {
   "cell_type": "markdown",
   "metadata": {},
   "source": [
    "If we compare users, we expect that users 6 & 8 should be the most similar."
   ]
  },
  {
   "cell_type": "code",
   "execution_count": null,
   "metadata": {},
   "outputs": [],
   "source": [
    "compare_user = 6\n",
    "for user in range(num_users):\n",
    "    #if user != compare_user:\n",
    "        print(\"User %s & %s: \"%(compare_user,user), np.dot(U[compare_user],U[user]))"
   ]
  },
  {
   "cell_type": "markdown",
   "metadata": {},
   "source": [
    "Let's make a function that returns recommendations for a given item input (this user likes item 0... so she'll probably also like items X, Y, Z)."
   ]
  },
  {
   "cell_type": "code",
   "execution_count": null,
   "metadata": {},
   "outputs": [],
   "source": [
    "def get_recommends(itemID, VT, num_recom=2):\n",
    "    recs = []\n",
    "    for item in range(VT.T.shape[0]):\n",
    "        if item != itemID:\n",
    "            recs.append([item,np.dot(VT.T[itemID],VT.T[item])])\n",
    "    final_rec = [i[0] for i in sorted(recs,key=lambda x: x[1],reverse=True)]\n",
    "    return final_rec[:num_recom]\n",
    "\n",
    "print(get_recommends(2,VT,num_recom=2))"
   ]
  },
  {
   "cell_type": "markdown",
   "metadata": {},
   "source": [
    "We could also find a user that's most similar to a user and then recommend all items they like. In my example, user 3 is most similar to user 5... but user 5 also likes item 0 (and user 3 doesn't). Thus, this function will find for user 3 - User 5 is most similar, and item 0 should be something user 3 likes too."
   ]
  },
  {
   "cell_type": "code",
   "execution_count": null,
   "metadata": {},
   "outputs": [],
   "source": [
    "def get_recommends_user(userID, U, df):\n",
    "    userrecs = []\n",
    "    for user in range(U.shape[0]):\n",
    "        if user!= userID:\n",
    "            userrecs.append([user,np.dot(U[userID],U[user])])\n",
    "    final_rec = [i[0] for i in sorted(userrecs,key=lambda x: x[1],reverse=True)]\n",
    "    comp_user = final_rec[0]\n",
    "    print(\"User #%s's most similar user is User #%s \"% (userID, comp_user))\n",
    "    rec_likes = df.iloc[comp_user]\n",
    "    current = df.iloc[userID]\n",
    "    recs = []\n",
    "    for i,item in enumerate(current):\n",
    "        if item != rec_likes[i] and rec_likes[i]!=0:\n",
    "            recs.append(i)\n",
    "    return recs\n",
    "\n",
    "user_to_rec = 3\n",
    "print(\"Items for User %s to check out: \"% user_to_rec, get_recommends_user(user_to_rec,U,user_item_mat))"
   ]
  },
  {
   "cell_type": "markdown",
   "metadata": {},
   "source": [
    "That's exactly what a recommender is doing for collaborative filtering, on a massive scale!"
   ]
  },
  {
   "cell_type": "code",
   "execution_count": null,
   "metadata": {},
   "outputs": [],
   "source": []
  }
 ],
 "metadata": {
  "kernelspec": {
   "display_name": "Python [conda env:metis]",
   "language": "python",
   "name": "conda-env-metis-py"
  },
  "language_info": {
   "codemirror_mode": {
    "name": "ipython",
    "version": 3
   },
   "file_extension": ".py",
   "mimetype": "text/x-python",
   "name": "python",
   "nbconvert_exporter": "python",
   "pygments_lexer": "ipython3",
   "version": "3.7.4"
  }
 },
 "nbformat": 4,
 "nbformat_minor": 2
}
